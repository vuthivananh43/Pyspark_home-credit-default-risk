{
 "cells": [
  {
   "cell_type": "code",
   "execution_count": 1,
   "metadata": {},
   "outputs": [],
   "source": [
    "import pyspark\n",
    "from pyspark import SparkContext, SparkConf, SQLContext\n",
    "from pyspark.sql.functions import *\n",
    "from pyspark.sql.types import *\n",
    "import pyspark.sql.functions as F\n",
    "from pyspark.mllib.stat import Statistics\n",
    "\n",
    "from tqdm import tqdm\n",
    "\n",
    "import numpy as np\n",
    "import pandas as pd\n",
    "import matplotlib.pyplot as plt\n",
    "import seaborn as sns\n",
    "import urllib.request\n",
    "\n",
    "%matplotlib inline"
   ]
  },
  {
   "cell_type": "code",
   "execution_count": 2,
   "metadata": {},
   "outputs": [],
   "source": [
    "sc = SparkContext()\n",
    "sqlsc = SQLContext(sc)\n",
    "spark = sqlsc.sparkSession"
   ]
  },
  {
   "cell_type": "code",
   "execution_count": 3,
   "metadata": {},
   "outputs": [],
   "source": [
    "# Import dataset from parquet\n",
    "df = spark.read.load('train.parquet')"
   ]
  },
  {
   "cell_type": "markdown",
   "metadata": {},
   "source": [
    "# 1. Engineering data "
   ]
  },
  {
   "cell_type": "markdown",
   "metadata": {},
   "source": [
    "## 1.1. Missing values"
   ]
  },
  {
   "cell_type": "code",
   "execution_count": 4,
   "metadata": {},
   "outputs": [
    {
     "data": {
      "text/html": [
       "<div>\n",
       "<style scoped>\n",
       "    .dataframe tbody tr th:only-of-type {\n",
       "        vertical-align: middle;\n",
       "    }\n",
       "\n",
       "    .dataframe tbody tr th {\n",
       "        vertical-align: top;\n",
       "    }\n",
       "\n",
       "    .dataframe thead th {\n",
       "        text-align: right;\n",
       "    }\n",
       "</style>\n",
       "<table border=\"1\" class=\"dataframe\">\n",
       "  <thead>\n",
       "    <tr style=\"text-align: right;\">\n",
       "      <th>Column</th>\n",
       "      <th>Total</th>\n",
       "      <th>Percent</th>\n",
       "    </tr>\n",
       "  </thead>\n",
       "  <tbody>\n",
       "    <tr>\n",
       "      <th>EXT_SOURCE_1</th>\n",
       "      <td>4360550</td>\n",
       "      <td>53.89</td>\n",
       "    </tr>\n",
       "    <tr>\n",
       "      <th>PREV_NFLAG_INSURED_ON_APPROVAL</th>\n",
       "      <td>3442496</td>\n",
       "      <td>42.54</td>\n",
       "    </tr>\n",
       "    <tr>\n",
       "      <th>PREV_DAYS_TERMINATION</th>\n",
       "      <td>3442496</td>\n",
       "      <td>42.54</td>\n",
       "    </tr>\n",
       "    <tr>\n",
       "      <th>PREV_DAYS_LAST_DUE</th>\n",
       "      <td>3442496</td>\n",
       "      <td>42.54</td>\n",
       "    </tr>\n",
       "    <tr>\n",
       "      <th>OCCUPATION_TYPE</th>\n",
       "      <td>2602588</td>\n",
       "      <td>32.16</td>\n",
       "    </tr>\n",
       "    <tr>\n",
       "      <th>PREV_AMT_GOODS_PRICE</th>\n",
       "      <td>1861801</td>\n",
       "      <td>23.01</td>\n",
       "    </tr>\n",
       "    <tr>\n",
       "      <th>PREV_AMT_ANNUITY</th>\n",
       "      <td>1829413</td>\n",
       "      <td>22.61</td>\n",
       "    </tr>\n",
       "    <tr>\n",
       "      <th>BUREAU_DAYS_CREDIT_ENDDATE</th>\n",
       "      <td>683204</td>\n",
       "      <td>8.44</td>\n",
       "    </tr>\n",
       "    <tr>\n",
       "      <th>EXT_SOURCE_3</th>\n",
       "      <td>370453</td>\n",
       "      <td>4.58</td>\n",
       "    </tr>\n",
       "    <tr>\n",
       "      <th>BUREAU_AMT_CREDIT_SUM</th>\n",
       "      <td>175497</td>\n",
       "      <td>2.17</td>\n",
       "    </tr>\n",
       "    <tr>\n",
       "      <th>BUREAU_SK_ID_CURR</th>\n",
       "      <td>175485</td>\n",
       "      <td>2.17</td>\n",
       "    </tr>\n",
       "    <tr>\n",
       "      <th>BUREAU_SK_ID_BUREAU</th>\n",
       "      <td>175485</td>\n",
       "      <td>2.17</td>\n",
       "    </tr>\n",
       "    <tr>\n",
       "      <th>BUREAU_CREDIT_ACTIVE</th>\n",
       "      <td>175485</td>\n",
       "      <td>2.17</td>\n",
       "    </tr>\n",
       "    <tr>\n",
       "      <th>BUREAU_CREDIT_TYPE</th>\n",
       "      <td>175485</td>\n",
       "      <td>2.17</td>\n",
       "    </tr>\n",
       "    <tr>\n",
       "      <th>BUREAU_AMT_CREDIT_SUM_OVERDUE</th>\n",
       "      <td>175485</td>\n",
       "      <td>2.17</td>\n",
       "    </tr>\n",
       "    <tr>\n",
       "      <th>BUREAU_DAYS_CREDIT</th>\n",
       "      <td>175485</td>\n",
       "      <td>2.17</td>\n",
       "    </tr>\n",
       "    <tr>\n",
       "      <th>PREV_AMT_CREDIT</th>\n",
       "      <td>63877</td>\n",
       "      <td>0.79</td>\n",
       "    </tr>\n",
       "    <tr>\n",
       "      <th>PREV_NAME_CONTRACT_STATUS</th>\n",
       "      <td>63876</td>\n",
       "      <td>0.79</td>\n",
       "    </tr>\n",
       "    <tr>\n",
       "      <th>PREV_NAME_CLIENT_TYPE</th>\n",
       "      <td>63876</td>\n",
       "      <td>0.79</td>\n",
       "    </tr>\n",
       "    <tr>\n",
       "      <th>PREV_SK_ID_PREV</th>\n",
       "      <td>63876</td>\n",
       "      <td>0.79</td>\n",
       "    </tr>\n",
       "    <tr>\n",
       "      <th>PREV_SK_ID_CURR</th>\n",
       "      <td>63876</td>\n",
       "      <td>0.79</td>\n",
       "    </tr>\n",
       "    <tr>\n",
       "      <th>PREV_NAME_CONTRACT_TYPE</th>\n",
       "      <td>63876</td>\n",
       "      <td>0.79</td>\n",
       "    </tr>\n",
       "    <tr>\n",
       "      <th>PREV_AMT_APPLICATION</th>\n",
       "      <td>63876</td>\n",
       "      <td>0.79</td>\n",
       "    </tr>\n",
       "    <tr>\n",
       "      <th>EXT_SOURCE_2</th>\n",
       "      <td>8191</td>\n",
       "      <td>0.10</td>\n",
       "    </tr>\n",
       "    <tr>\n",
       "      <th>AMT_GOODS_PRICE</th>\n",
       "      <td>6115</td>\n",
       "      <td>0.08</td>\n",
       "    </tr>\n",
       "    <tr>\n",
       "      <th>AMT_ANNUITY</th>\n",
       "      <td>427</td>\n",
       "      <td>0.01</td>\n",
       "    </tr>\n",
       "    <tr>\n",
       "      <th>CNT_FAM_MEMBERS</th>\n",
       "      <td>2</td>\n",
       "      <td>0.00</td>\n",
       "    </tr>\n",
       "    <tr>\n",
       "      <th>DAYS_LAST_PHONE_CHANGE</th>\n",
       "      <td>1</td>\n",
       "      <td>0.00</td>\n",
       "    </tr>\n",
       "    <tr>\n",
       "      <th>SK_ID_CURR</th>\n",
       "      <td>0</td>\n",
       "      <td>0.00</td>\n",
       "    </tr>\n",
       "    <tr>\n",
       "      <th>TARGET</th>\n",
       "      <td>0</td>\n",
       "      <td>0.00</td>\n",
       "    </tr>\n",
       "  </tbody>\n",
       "</table>\n",
       "</div>"
      ],
      "text/plain": [
       "Column                            Total  Percent\n",
       "EXT_SOURCE_1                    4360550    53.89\n",
       "PREV_NFLAG_INSURED_ON_APPROVAL  3442496    42.54\n",
       "PREV_DAYS_TERMINATION           3442496    42.54\n",
       "PREV_DAYS_LAST_DUE              3442496    42.54\n",
       "OCCUPATION_TYPE                 2602588    32.16\n",
       "PREV_AMT_GOODS_PRICE            1861801    23.01\n",
       "PREV_AMT_ANNUITY                1829413    22.61\n",
       "BUREAU_DAYS_CREDIT_ENDDATE       683204     8.44\n",
       "EXT_SOURCE_3                     370453     4.58\n",
       "BUREAU_AMT_CREDIT_SUM            175497     2.17\n",
       "BUREAU_SK_ID_CURR                175485     2.17\n",
       "BUREAU_SK_ID_BUREAU              175485     2.17\n",
       "BUREAU_CREDIT_ACTIVE             175485     2.17\n",
       "BUREAU_CREDIT_TYPE               175485     2.17\n",
       "BUREAU_AMT_CREDIT_SUM_OVERDUE    175485     2.17\n",
       "BUREAU_DAYS_CREDIT               175485     2.17\n",
       "PREV_AMT_CREDIT                   63877     0.79\n",
       "PREV_NAME_CONTRACT_STATUS         63876     0.79\n",
       "PREV_NAME_CLIENT_TYPE             63876     0.79\n",
       "PREV_SK_ID_PREV                   63876     0.79\n",
       "PREV_SK_ID_CURR                   63876     0.79\n",
       "PREV_NAME_CONTRACT_TYPE           63876     0.79\n",
       "PREV_AMT_APPLICATION              63876     0.79\n",
       "EXT_SOURCE_2                       8191     0.10\n",
       "AMT_GOODS_PRICE                    6115     0.08\n",
       "AMT_ANNUITY                         427     0.01\n",
       "CNT_FAM_MEMBERS                       2     0.00\n",
       "DAYS_LAST_PHONE_CHANGE                1     0.00\n",
       "SK_ID_CURR                            0     0.00\n",
       "TARGET                                0     0.00"
      ]
     },
     "execution_count": 4,
     "metadata": {},
     "output_type": "execute_result"
    }
   ],
   "source": [
    "dff = df.select([count(when(col(c).isNull(), c)).alias(c) for c in df.columns])\n",
    "dff = dff.withColumn('Column', lit('Total')).toPandas().set_index('Column').transpose()\n",
    "dff['Percent'] = (dff['Total']*100/df.count()).round(2)\n",
    "dff.sort_values('Total', ascending = False).head(30)"
   ]
  },
  {
   "cell_type": "code",
   "execution_count": 5,
   "metadata": {},
   "outputs": [],
   "source": [
    "from pyspark.sql.types import StringType\n",
    "str_cols = [f.name for f in df.schema.fields if isinstance(f.dataType, StringType)]\n",
    "num_cols = [x for x in df.columns if x not in str_cols]\n",
    "idx_cols = [\n",
    "    'SK_ID_CURR',\n",
    "    'BUREAU_SK_ID_CURR', 'BUREAU_SK_ID_BUREAU',\n",
    "    'PREV_SK_ID_CURR', 'PREV_SK_ID_PREV'\n",
    "]\n",
    "features = [x for x in num_cols if x not in ['TARGET'] + idx_cols]"
   ]
  },
  {
   "cell_type": "markdown",
   "metadata": {},
   "source": [
    "## 1.2.  Numerical variables"
   ]
  },
  {
   "cell_type": "markdown",
   "metadata": {},
   "source": [
    "<b> Correlation matrix"
   ]
  },
  {
   "cell_type": "code",
   "execution_count": 6,
   "metadata": {},
   "outputs": [
    {
     "name": "stdout",
     "output_type": "stream",
     "text": [
      "+--------------------+-------------+------------+\n",
      "|            Variable|  Correlation|    Absolute|\n",
      "+--------------------+-------------+------------+\n",
      "|        EXT_SOURCE_3|  -0.17438422|  0.17438422|\n",
      "|        EXT_SOURCE_2|  -0.14662737|  0.14662737|\n",
      "|  BUREAU_DAYS_CREDIT|     0.067338|    0.067338|\n",
      "|          DAYS_BIRTH|   0.06465716|  0.06465716|\n",
      "|        EXT_SOURCE_1| -0.053362697| 0.053362697|\n",
      "|DAYS_LAST_PHONE_C...|   0.04581558|  0.04581558|\n",
      "|REG_CITY_NOT_WORK...|  0.037440337| 0.037440337|\n",
      "|       DAYS_EMPLOYED|  -0.03494869|  0.03494869|\n",
      "|   DAYS_REGISTRATION|  0.032477297| 0.032477297|\n",
      "|REG_CITY_NOT_LIVE...|  0.030003462| 0.030003462|\n",
      "|     AMT_GOODS_PRICE| -0.029813254| 0.029813254|\n",
      "|BUREAU_DAYS_CREDI...|  0.028703833| 0.028703833|\n",
      "|          AMT_CREDIT| -0.020801254| 0.020801254|\n",
      "|PREV_NFLAG_INSURE...| -0.016091458| 0.016091458|\n",
      "|        CNT_CHILDREN|  0.015917707| 0.015917707|\n",
      "|     CNT_FAM_MEMBERS|  0.015748272| 0.015748272|\n",
      "|    PREV_AMT_ANNUITY| -0.011781979| 0.011781979|\n",
      "|     PREV_AMT_CREDIT|  0.008557011| 0.008557011|\n",
      "|PREV_DAYS_TERMINA...| -0.007677946| 0.007677946|\n",
      "|BUREAU_AMT_CREDIT...| 0.0075979703|0.0075979703|\n",
      "|  PREV_DAYS_LAST_DUE|-0.0067620985|0.0067620985|\n",
      "|BUREAU_AMT_CREDIT...| -0.006530384| 0.006530384|\n",
      "|         AMT_ANNUITY| -0.006102156| 0.006102156|\n",
      "|PREV_AMT_GOODS_PRICE|  0.004600209| 0.004600209|\n",
      "|PREV_AMT_APPLICATION| 0.0045682215|0.0045682215|\n",
      "|REG_REGION_NOT_WO...| 0.0026771731|0.0026771731|\n",
      "|REG_REGION_NOT_LI...| -9.692655E-4| 9.692655E-4|\n",
      "|    AMT_INCOME_TOTAL| 7.8320416E-4|7.8320416E-4|\n",
      "+--------------------+-------------+------------+\n",
      "\n"
     ]
    }
   ],
   "source": [
    "corr = []\n",
    "for var in features:\n",
    "    temps = df.stat.corr('TARGET', var)\n",
    "    corr.append([var, temps])\n",
    "\n",
    "\n",
    "cSchema = StructType([\n",
    "    StructField(\"Variable\", StringType()),\n",
    "    StructField(\"Correlation\", FloatType())\n",
    "])\n",
    "\n",
    "corr_tab = spark.createDataFrame(corr,schema=cSchema)\\\n",
    "                .withColumn('Absolute', F.abs(col('Correlation')))\n",
    "# Print\n",
    "corr_tab.orderBy('Absolute', ascending=False).show(len(features))"
   ]
  },
  {
   "cell_type": "markdown",
   "metadata": {},
   "source": [
    "<b> In the following part, I select all numeric variables which have correlation coeff with `TARGET` more than 0.01 and plot a heat map."
   ]
  },
  {
   "cell_type": "code",
   "execution_count": 7,
   "metadata": {},
   "outputs": [],
   "source": [
    "numvar_col = corr_tab.where(col('Absolute') >= 0.01).select('Variable')\n",
    "chosen_numvar = [numvar_col.collect()[i][0] for i in range(len(numvar_col.collect()))]"
   ]
  },
  {
   "cell_type": "code",
   "execution_count": 8,
   "metadata": {},
   "outputs": [],
   "source": [
    "from pyspark.ml.feature import VectorAssembler\n",
    "from pyspark.ml.stat import Correlation\n",
    "\n",
    "corr_columns = ['TARGET'] + chosen_numvar\n",
    "def correlation_matrix(df, corr_columns, method='pearson'):\n",
    "    vector_col = \"corr_features\"\n",
    "    assembler = VectorAssembler(inputCols=corr_columns, outputCol=vector_col)\n",
    "    df_vector = assembler.transform(df.na.drop()).select(vector_col)\n",
    "    matrix = Correlation.corr(df_vector, vector_col, method)\n",
    "\n",
    "    result = matrix.collect()[0][\"pearson({})\".format(vector_col)].values\n",
    "    return pd.DataFrame(result.reshape(-1, len(corr_columns)), \n",
    "                        columns=corr_columns, \n",
    "                        index=corr_columns)\n",
    "corr = correlation_matrix(df, corr_columns)"
   ]
  },
  {
   "cell_type": "code",
   "execution_count": 9,
   "metadata": {},
   "outputs": [
    {
     "data": {
      "image/png": "[encoded data removed]",
      "text/plain": [
       "<Figure size 504x360 with 2 Axes>"
      ]
     },
     "metadata": {},
     "output_type": "display_data"
    }
   ],
   "source": [
    "mask = np.zeros_like(corr)\n",
    "mask[np.triu_indices_from(mask)] = True\n",
    "with sns.axes_style(\"white\"):\n",
    "    f, ax = plt.subplots(figsize=(7, 5))\n",
    "    ax = sns.heatmap(corr, mask=mask, vmax=.3, square=True)"
   ]
  },
  {
   "cell_type": "markdown",
   "metadata": {},
   "source": [
    "## 1.3. Categorical variables "
   ]
  },
  {
   "cell_type": "code",
   "execution_count": 10,
   "metadata": {},
   "outputs": [],
   "source": [
    "from pyspark.ml import Pipeline\n",
    "from pyspark.ml.feature import StringIndexer\n",
    "\n",
    "indexers = [StringIndexer(inputCol=col, outputCol='CAT_'+col).fit(df.na.drop()) for col in str_cols]\n",
    "pipeline = Pipeline(stages=indexers)\n",
    "idx_df = pipeline.fit(df.na.drop()).transform(df.na.drop())\n",
    "cat_cols = ['CAT_'+x for x in str_cols]"
   ]
  },
  {
   "cell_type": "code",
   "execution_count": 11,
   "metadata": {},
   "outputs": [],
   "source": [
    "corr_cat = []\n",
    "for var in cat_cols:\n",
    "    temps = idx_df.stat.corr('TARGET', var)\n",
    "    corr_cat.append([var, temps])"
   ]
  },
  {
   "cell_type": "code",
   "execution_count": 12,
   "metadata": {},
   "outputs": [
    {
     "name": "stdout",
     "output_type": "stream",
     "text": [
      "+--------------------+------------+------------+\n",
      "|            Variable| Correlation|    Absolute|\n",
      "+--------------------+------------+------------+\n",
      "|CAT_NAME_EDUCATIO...|-0.047208134| 0.047208134|\n",
      "|CAT_NAME_INCOME_TYPE|-0.037655972| 0.037655972|\n",
      "|CAT_BUREAU_CREDIT...|  0.03424089|  0.03424089|\n",
      "|CAT_NAME_CONTRACT...| -0.03369867|  0.03369867|\n",
      "|    CAT_FLAG_OWN_CAR|-0.031940434| 0.031940434|\n",
      "|CAT_PREV_NAME_CON...| 0.031785283| 0.031785283|\n",
      "|     CAT_CODE_GENDER|  0.02024206|  0.02024206|\n",
      "|CAT_NAME_HOUSING_...| 0.015710387| 0.015710387|\n",
      "|CAT_BUREAU_CREDIT...|0.0149923675|0.0149923675|\n",
      "|CAT_ORGANIZATION_...| -0.00686677|  0.00686677|\n",
      "|CAT_NAME_FAMILY_S...|0.0035260892|0.0035260892|\n",
      "| CAT_OCCUPATION_TYPE|-0.002623034| 0.002623034|\n",
      "|CAT_PREV_NAME_CLI...| 0.001330584| 0.001330584|\n",
      "| CAT_FLAG_OWN_REALTY| 5.733867E-4| 5.733867E-4|\n",
      "+--------------------+------------+------------+\n",
      "\n"
     ]
    }
   ],
   "source": [
    "cSchema = StructType([\n",
    "    StructField(\"Variable\", StringType()),\n",
    "    StructField(\"Correlation\", FloatType())\n",
    "])\n",
    "\n",
    "catcorr = spark.createDataFrame(corr_cat,schema=cSchema).na.drop()\n",
    "catcorr = catcorr.withColumn('Absolute', F.abs(catcorr.Correlation))\n",
    "catcorr.orderBy('Absolute', ascending=False).show(len(cat_cols))"
   ]
  },
  {
   "cell_type": "code",
   "execution_count": 13,
   "metadata": {},
   "outputs": [],
   "source": [
    "catvar_col = catcorr.filter(catcorr.Absolute >= 0.01).select('Variable')\n",
    "chosen_catvar = [catvar_col.collect()[i][0] for i in range(len(catvar_col.collect()))]\n",
    "\n",
    "import re\n",
    "chosen_catevar = [re.compile(r\"CAT_\").sub(\"\", m) for m in chosen_catvar]"
   ]
  },
  {
   "cell_type": "markdown",
   "metadata": {},
   "source": [
    "## 1.4. Features engineering"
   ]
  },
  {
   "cell_type": "code",
   "execution_count": 14,
   "metadata": {},
   "outputs": [],
   "source": [
    "features = ['TARGET'] + idx_cols + chosen_numvar + chosen_catevar\n",
    "df_final = df.select(features).fillna(0, subset = chosen_numvar + idx_cols)"
   ]
  },
  {
   "cell_type": "markdown",
   "metadata": {},
   "source": [
    "<b> All categorical variables, transform by `StringIndexer`"
   ]
  },
  {
   "cell_type": "code",
   "execution_count": 15,
   "metadata": {},
   "outputs": [],
   "source": [
    "indexer = [StringIndexer(inputCol=col, outputCol='IDX_'+col).fit(df_final) for col in chosen_catevar]\n",
    "pipeline = Pipeline(stages=indexer)\n",
    "dff = pipeline.fit(df_final.na.drop()).transform(df_final.na.drop())"
   ]
  },
  {
   "cell_type": "markdown",
   "metadata": {},
   "source": [
    "<b> Aggregation"
   ]
  },
  {
   "cell_type": "code",
   "execution_count": 16,
   "metadata": {},
   "outputs": [],
   "source": [
    "str_var = ['IDX_' + x for x in chosen_catevar]\n",
    "features = ['TARGET'] + idx_cols + chosen_numvar + str_var"
   ]
  },
  {
   "cell_type": "code",
   "execution_count": 17,
   "metadata": {},
   "outputs": [],
   "source": [
    "df_agg = dff.groupBy(['SK_ID_CURR']).agg(\n",
    "    avg(col('TARGET')).alias('TARGET'),\n",
    "    F.count(col('BUREAU_SK_ID_BUREAU')).alias('NBR_SK_ID_BUREAU'),\n",
    "    F.count(col('PREV_SK_ID_PREV')).alias('NBR_SK_ID_PREV'),\n",
    "    avg(col('CNT_CHILDREN')).alias('CNT_CHILDREN'),\n",
    "    avg(col('AMT_CREDIT')).alias('AMT_CREDIT'),\n",
    "    avg(col('AMT_GOODS_PRICE')).alias('AMT_GOODS_PRICE'),\n",
    "    avg(col('DAYS_BIRTH')).alias('DAYS_BIRTH'),\n",
    "    avg(col('DAYS_EMPLOYED')).alias('DAYS_EMPLOYED'),\n",
    "    avg(col('DAYS_REGISTRATION')).alias('DAYS_REGISTRATION'),\n",
    "    avg(col('CNT_FAM_MEMBERS')).alias('CNT_FAM_MEMBERS'),\n",
    "    avg(col('REG_CITY_NOT_LIVE_CITY')).alias('REG_CITY_NOT_LIVE_CITY'),\n",
    "    avg(col('REG_CITY_NOT_WORK_CITY')).alias('REG_CITY_NOT_WORK_CITY'),\n",
    "    avg(col('EXT_SOURCE_1')).alias('EXT_SOURCE_1'),\n",
    "    avg(col('EXT_SOURCE_2')).alias('EXT_SOURCE_2'),\n",
    "    avg(col('EXT_SOURCE_3')).alias('EXT_SOURCE_3'),\n",
    "    avg(col('DAYS_LAST_PHONE_CHANGE')).alias('DAYS_LAST_PHONE_CHANGE'),\n",
    "    avg(col('BUREAU_DAYS_CREDIT')).alias('M_BUREAU_DAYS_CREDIT'),\n",
    "    avg(col('BUREAU_DAYS_CREDIT_ENDDATE')).alias('M_BUREAU_DAYS_CREDIT_ENDDATE'),\n",
    "    avg(col('PREV_AMT_ANNUITY')).alias('M_PREV_AMT_ANNUITY'),\n",
    "    avg(col('PREV_NFLAG_INSURED_ON_APPROVAL')).alias('M_PREV_NFLAG_INSURED_ON_APPROVAL'),\n",
    "    avg(col('IDX_NAME_CONTRACT_TYPE')).alias('IDX_NAME_CONTRACT_TYPE'),\n",
    "    avg(col('IDX_CODE_GENDER')).alias('IDX_CODE_GENDER'),\n",
    "    avg(col('IDX_FLAG_OWN_CAR')).alias('IDX_FLAG_OWN_CAR'),\n",
    "    avg(col('IDX_NAME_INCOME_TYPE')).alias('IDX_NAME_INCOME_TYPE'),\n",
    "    avg(col('IDX_NAME_EDUCATION_TYPE')).alias('IDX_NAME_EDUCATION_TYPE'),\n",
    "    avg(col('IDX_NAME_HOUSING_TYPE')).alias('IDX_NAME_HOUSING_TYPE'),\n",
    "    avg(col('IDX_BUREAU_CREDIT_ACTIVE')).alias('M_IDX_BUREAU_CREDIT_ACTIVE'),\n",
    "    avg(col('IDX_BUREAU_CREDIT_TYPE')).alias('M_IDX_BUREAU_CREDIT_TYPE'),\n",
    "    avg(col('IDX_PREV_NAME_CONTRACT_TYPE')).alias('M_IDX_PREV_NAME_CONTRACT_TYPE')\n",
    ")"
   ]
  },
  {
   "cell_type": "code",
   "execution_count": 18,
   "metadata": {},
   "outputs": [
    {
     "data": {
      "text/plain": [
       "249507"
      ]
     },
     "execution_count": 18,
     "metadata": {},
     "output_type": "execute_result"
    }
   ],
   "source": [
    "df_agg.count()"
   ]
  },
  {
   "cell_type": "markdown",
   "metadata": {},
   "source": [
    "# 2. Models"
   ]
  },
  {
   "cell_type": "markdown",
   "metadata": {},
   "source": [
    "## 2.1 Splitting train test sets"
   ]
  },
  {
   "cell_type": "code",
   "execution_count": 19,
   "metadata": {},
   "outputs": [
    {
     "name": "stdout",
     "output_type": "stream",
     "text": [
      "Number of observations on train set: 211847\n",
      "Number of observations on valid set: 37660\n"
     ]
    }
   ],
   "source": [
    "train, val = df_agg.randomSplit([0.85, 0.15], seed=12345)\n",
    "print(\"Number of observations on train set: \" + str(train.count()))\n",
    "print(\"Number of observations on valid set: \" + str(val.count()))"
   ]
  },
  {
   "cell_type": "code",
   "execution_count": 20,
   "metadata": {},
   "outputs": [],
   "source": [
    "from pyspark.ml.feature import VectorAssembler\n",
    "\n",
    "input_cols = [x for x in df_agg.columns if x not in ['SK_ID_CURR', 'TARGET']]\n",
    "\n",
    "assembler = VectorAssembler(inputCols=input_cols, outputCol='features')\n",
    "final_train = assembler.transform(train)\n",
    "final_val = assembler.transform(val)"
   ]
  },
  {
   "cell_type": "markdown",
   "metadata": {},
   "source": [
    "# 2.2. Logistic regression"
   ]
  },
  {
   "cell_type": "code",
   "execution_count": 21,
   "metadata": {},
   "outputs": [],
   "source": [
    "from pyspark.ml.classification import LogisticRegression\n",
    "logreg= LogisticRegression(featuresCol = 'features', labelCol = 'TARGET', maxIter=10)\n",
    "LR_model = logreg.fit(final_train.selectExpr('features','TARGET'))"
   ]
  },
  {
   "cell_type": "code",
   "execution_count": 22,
   "metadata": {},
   "outputs": [
    {
     "name": "stdout",
     "output_type": "stream",
     "text": [
      "Training set areaUnderROC: 0.7140290948141219\n"
     ]
    },
    {
     "data": {
      "image/png": "[encoded data removed]",
      "text/plain": [
       "<Figure size 432x288 with 1 Axes>"
      ]
     },
     "metadata": {
      "needs_background": "light"
     },
     "output_type": "display_data"
    }
   ],
   "source": [
    "train_summary = LR_model.summary\n",
    "roc = train_summary.roc.toPandas()\n",
    "plt.plot(roc['FPR'],roc['TPR'])\n",
    "plt.ylabel('False Positive Rate')\n",
    "plt.xlabel('True Positive Rate')\n",
    "plt.title('ROC Curve')\n",
    "ROC_train1 = train_summary.areaUnderROC\n",
    "print('Training set areaUnderROC: ' + str(train_summary.areaUnderROC))"
   ]
  },
  {
   "cell_type": "code",
   "execution_count": 23,
   "metadata": {},
   "outputs": [
    {
     "name": "stdout",
     "output_type": "stream",
     "text": [
      "+------+--------------------+----------+--------------------+\n",
      "|TARGET|       rawPrediction|prediction|         probability|\n",
      "+------+--------------------+----------+--------------------+\n",
      "|   0.0|[2.31444247926879...|       0.0|[0.91006611645776...|\n",
      "|   0.0|[2.17685006513194...|       0.0|[0.89815129123859...|\n",
      "|   0.0|[2.6914138536605,...|       0.0|[0.93651808992752...|\n",
      "|   0.0|[0.94417352178154...|       0.0|[0.71994191796805...|\n",
      "|   0.0|[2.74883525778891...|       0.0|[0.93984753584523...|\n",
      "+------+--------------------+----------+--------------------+\n",
      "only showing top 5 rows\n",
      "\n"
     ]
    }
   ],
   "source": [
    "predictions = LR_model.transform(final_val.selectExpr('features','TARGET'))\n",
    "predictions.select('TARGET', 'rawPrediction', 'prediction', 'probability').show(5)"
   ]
  },
  {
   "cell_type": "code",
   "execution_count": 24,
   "metadata": {},
   "outputs": [
    {
     "name": "stdout",
     "output_type": "stream",
     "text": [
      "Validation set areaUnderROC: 0.7163003419288025\n"
     ]
    }
   ],
   "source": [
    "from pyspark.ml.evaluation import BinaryClassificationEvaluator\n",
    "evaluator = BinaryClassificationEvaluator(labelCol=\"TARGET\", metricName=\"areaUnderROC\")\n",
    "ROC_val1 = evaluator.evaluate(predictions)\n",
    "print('Validation set areaUnderROC: ' + str(ROC_val1))"
   ]
  },
  {
   "cell_type": "code",
   "execution_count": 26,
   "metadata": {},
   "outputs": [],
   "source": [
    "# Storing result\n",
    "res = []\n",
    "res.append(['Logistic Regression', ROC_train1, ROC_val1])"
   ]
  },
  {
   "cell_type": "markdown",
   "metadata": {},
   "source": [
    "## 2.3. Decision tree"
   ]
  },
  {
   "cell_type": "code",
   "execution_count": 27,
   "metadata": {},
   "outputs": [],
   "source": [
    "from pyspark.ml.classification import DecisionTreeClassifier\n",
    "DT = DecisionTreeClassifier(labelCol='TARGET', featuresCol='features', maxDepth = 3)\n",
    "DT_model = DT.fit(final_train.selectExpr('features','TARGET'))"
   ]
  },
  {
   "cell_type": "code",
   "execution_count": 28,
   "metadata": {},
   "outputs": [
    {
     "name": "stdout",
     "output_type": "stream",
     "text": [
      "Training set areaUnderROC: 0.5\n",
      "Validation set areaUnderROC: 0.5\n"
     ]
    }
   ],
   "source": [
    "train_pred = DT_model.transform(final_train.selectExpr('features','TARGET'))\n",
    "val_pred = DT_model.transform(final_val.selectExpr('features','TARGET'))\n",
    "ROC_train2 = evaluator.evaluate(train_pred)\n",
    "ROC_val2 = evaluator.evaluate(val_pred)\n",
    "print('Training set areaUnderROC: ' + str(ROC_train2))\n",
    "print('Validation set areaUnderROC: ' + str(ROC_val2))"
   ]
  },
  {
   "cell_type": "code",
   "execution_count": 29,
   "metadata": {},
   "outputs": [],
   "source": [
    "res.append(['Decision Tree', ROC_train2, ROC_val2])"
   ]
  },
  {
   "cell_type": "markdown",
   "metadata": {},
   "source": [
    "## 2.4. Random Forest"
   ]
  },
  {
   "cell_type": "code",
   "execution_count": 30,
   "metadata": {},
   "outputs": [],
   "source": [
    "from pyspark.ml.classification import RandomForestClassifier\n",
    "\n",
    "RF = RandomForestClassifier(featuresCol='features', labelCol='TARGET')\n",
    "RF_Model = RF.fit(final_train.selectExpr('features','TARGET'))"
   ]
  },
  {
   "cell_type": "code",
   "execution_count": 31,
   "metadata": {},
   "outputs": [
    {
     "name": "stdout",
     "output_type": "stream",
     "text": [
      "Training set areaUnderROC: 0.6769100682370223\n",
      "Validation set areaUnderROC: 0.6724854278710961\n"
     ]
    }
   ],
   "source": [
    "train_pred = RF_Model.transform(final_train.selectExpr('features','TARGET'))\n",
    "val_pred = RF_Model.transform(final_val.selectExpr('features','TARGET'))\n",
    "ROC_train3 = evaluator.evaluate(train_pred)\n",
    "ROC_val3 = evaluator.evaluate(val_pred)\n",
    "\n",
    "print('Training set areaUnderROC: ' + str(ROC_train3))\n",
    "print('Validation set areaUnderROC: ' + str(ROC_val3))"
   ]
  },
  {
   "cell_type": "code",
   "execution_count": 32,
   "metadata": {},
   "outputs": [
    {
     "data": {
      "text/plain": [
       "<matplotlib.axes._subplots.AxesSubplot at 0x7f3074677f50>"
      ]
     },
     "execution_count": 32,
     "metadata": {},
     "output_type": "execute_result"
    },
    {
     "data": {
      "text/plain": [
       "<Figure size 432x1080 with 0 Axes>"
      ]
     },
     "metadata": {},
     "output_type": "display_data"
    },
    {
     "data": {
      "image/png": "[encoded data removed]",
      "text/plain": [
       "<Figure size 432x288 with 1 Axes>"
      ]
     },
     "metadata": {
      "needs_background": "light"
     },
     "output_type": "display_data"
    }
   ],
   "source": [
    "feature_importances = RF_Model.featureImportances\n",
    "feature_names = input_cols\n",
    "\n",
    "plt.figure(figsize=(6,15))\n",
    "pd.DataFrame(data = list(feature_importances), \n",
    "             columns = ['feature_importances'], \n",
    "             index = feature_names).sort_values(by = 'feature_importances').plot.bar()"
   ]
  },
  {
   "cell_type": "code",
   "execution_count": 33,
   "metadata": {},
   "outputs": [],
   "source": [
    "res.append(['Random Forest', ROC_train3, ROC_val3])"
   ]
  },
  {
   "cell_type": "markdown",
   "metadata": {},
   "source": [
    "## Gradient-Boosted Tree Classifier"
   ]
  },
  {
   "cell_type": "code",
   "execution_count": 36,
   "metadata": {},
   "outputs": [],
   "source": [
    "from pyspark.ml.classification import GBTClassifier\n",
    "\n",
    "GBT = GBTClassifier(labelCol=\"TARGET\", featuresCol='features', maxIter=10)\n",
    "GBT_Model = GBT.fit(final_train.selectExpr('features','TARGET'))"
   ]
  },
  {
   "cell_type": "code",
   "execution_count": 37,
   "metadata": {},
   "outputs": [],
   "source": [
    "train_pred = GBT_Model.transform(final_train.selectExpr('features','TARGET'))\n",
    "val_pred = GBT_Model.transform(final_val.selectExpr('features','TARGET'))\n",
    "ROC_train4 = evaluator.evaluate(train_pred)\n",
    "ROC_val4 = evaluator.evaluate(val_pred)"
   ]
  },
  {
   "cell_type": "code",
   "execution_count": 38,
   "metadata": {},
   "outputs": [],
   "source": [
    "res.append(['Gradient Boosted Tree', ROC_train4, ROC_val4])"
   ]
  },
  {
   "cell_type": "code",
   "execution_count": 39,
   "metadata": {},
   "outputs": [
    {
     "data": {
      "text/html": [
       "<div>\n",
       "<style scoped>\n",
       "    .dataframe tbody tr th:only-of-type {\n",
       "        vertical-align: middle;\n",
       "    }\n",
       "\n",
       "    .dataframe tbody tr th {\n",
       "        vertical-align: top;\n",
       "    }\n",
       "\n",
       "    .dataframe thead th {\n",
       "        text-align: right;\n",
       "    }\n",
       "</style>\n",
       "<table border=\"1\" class=\"dataframe\">\n",
       "  <thead>\n",
       "    <tr style=\"text-align: right;\">\n",
       "      <th></th>\n",
       "      <th>Model</th>\n",
       "      <th>ROC_train</th>\n",
       "      <th>ROC_test</th>\n",
       "    </tr>\n",
       "  </thead>\n",
       "  <tbody>\n",
       "    <tr>\n",
       "      <th>0</th>\n",
       "      <td>Logistic Regression</td>\n",
       "      <td>0.714029</td>\n",
       "      <td>0.716300</td>\n",
       "    </tr>\n",
       "    <tr>\n",
       "      <th>1</th>\n",
       "      <td>Decision Tree</td>\n",
       "      <td>0.500000</td>\n",
       "      <td>0.500000</td>\n",
       "    </tr>\n",
       "    <tr>\n",
       "      <th>2</th>\n",
       "      <td>Random Forest</td>\n",
       "      <td>0.676910</td>\n",
       "      <td>0.672485</td>\n",
       "    </tr>\n",
       "    <tr>\n",
       "      <th>3</th>\n",
       "      <td>Gradient Boosted Tree</td>\n",
       "      <td>0.739511</td>\n",
       "      <td>0.731594</td>\n",
       "    </tr>\n",
       "  </tbody>\n",
       "</table>\n",
       "</div>"
      ],
      "text/plain": [
       "                   Model  ROC_train  ROC_test\n",
       "0    Logistic Regression   0.714029  0.716300\n",
       "1          Decision Tree   0.500000  0.500000\n",
       "2          Random Forest   0.676910  0.672485\n",
       "3  Gradient Boosted Tree   0.739511  0.731594"
      ]
     },
     "execution_count": 39,
     "metadata": {},
     "output_type": "execute_result"
    }
   ],
   "source": [
    "pd.DataFrame(res, columns=['Model', 'ROC_train', 'ROC_test'])"
   ]
  },
  {
   "cell_type": "markdown",
   "metadata": {},
   "source": [
    "In conclusion, gradient boosted tree regression outperform all other models used. As can be seen on the plot of important features, during considering the credit applications, several factors such as all external resources, other personal information including age, employment duration, how large is their family, and their credit history (in internal credit institute and other credit bureau).\n",
    "\n",
    "In this project, I do not do the hyperparameters tuning due to limited time and large data set.\n"
   ]
  }
 ],
 "metadata": {
  "kernelspec": {
   "display_name": "Python 3",
   "language": "python",
   "name": "python3"
  },
  "language_info": {
   "codemirror_mode": {
    "name": "ipython",
    "version": 3
   },
   "file_extension": ".py",
   "mimetype": "text/x-python",
   "name": "python",
   "nbconvert_exporter": "python",
   "pygments_lexer": "ipython3",
   "version": "3.7.0"
  },
  "toc": {
   "base_numbering": 1,
   "nav_menu": {},
   "number_sections": true,
   "sideBar": true,
   "skip_h1_title": false,
   "title_cell": "Table of Contents",
   "title_sidebar": "Contents",
   "toc_cell": false,
   "toc_position": {},
   "toc_section_display": true,
   "toc_window_display": false
  }
 },
 "nbformat": 4,
 "nbformat_minor": 4
}
